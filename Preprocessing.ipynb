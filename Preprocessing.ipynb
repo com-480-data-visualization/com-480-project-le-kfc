{
 "cells": [
  {
   "cell_type": "markdown",
   "metadata": {},
   "source": [
    "# Preprocessing"
   ]
  },
  {
   "cell_type": "code",
   "execution_count": 1,
   "metadata": {},
   "outputs": [],
   "source": [
    "import pandas as pd\n",
    "import numpy as np"
   ]
  },
  {
   "cell_type": "code",
   "execution_count": 2,
   "metadata": {},
   "outputs": [],
   "source": [
    "data_raw = pd.read_csv('data/results.csv')\n",
    "flag_raw = pd.read_csv('data/flags.csv')"
   ]
  },
  {
   "cell_type": "code",
   "execution_count": 3,
   "metadata": {},
   "outputs": [],
   "source": [
    "#Removing all teams not recognised by the FIFA (non-national and unofficial teams)\n",
    "official_teams=data_raw[data_raw['tournament']=='FIFA World Cup qualification']\n",
    "official_teams=pd.concat([official_teams['home_team'],official_teams['away_team']]).unique()\n",
    "team_filter=data_raw['home_team'].isin(official_teams) & data_raw['away_team'].isin(official_teams)\n",
    "data=data_raw[team_filter]"
   ]
  },
  {
   "cell_type": "code",
   "execution_count": 4,
   "metadata": {},
   "outputs": [
    {
     "name": "stderr",
     "output_type": "stream",
     "text": [
      "/Users/leobouraux/anaconda3/lib/python3.7/site-packages/ipykernel_launcher.py:19: SettingWithCopyWarning: \n",
      "A value is trying to be set on a copy of a slice from a DataFrame.\n",
      "Try using .loc[row_indexer,col_indexer] = value instead\n",
      "\n",
      "See the caveats in the documentation: http://pandas.pydata.org/pandas-docs/stable/user_guide/indexing.html#returning-a-view-versus-a-copy\n",
      "/Users/leobouraux/anaconda3/lib/python3.7/site-packages/ipykernel_launcher.py:20: SettingWithCopyWarning: \n",
      "A value is trying to be set on a copy of a slice from a DataFrame.\n",
      "Try using .loc[row_indexer,col_indexer] = value instead\n",
      "\n",
      "See the caveats in the documentation: http://pandas.pydata.org/pandas-docs/stable/user_guide/indexing.html#returning-a-view-versus-a-copy\n"
     ]
    }
   ],
   "source": [
    "#Change names so that they fit with flags names\n",
    "\n",
    "country_names_dict = {\n",
    "    \"Chinese Taipei\": \"Republic of China\",\n",
    "    \"China PR\": \"China\",\n",
    "    \"Congo\":\"Republic of Congo\",\n",
    "    \"DR Congo\":\"Democratic Republic of Congo\",\n",
    "    \"German DR\":\"German Democratic Republic\",\n",
    "    \"Republic of Ireland\":\"Ireland\",\n",
    "    \"Burma\":\"Myanmar\",\n",
    "    \"Vietnam Republic\":\"Vietnam\", #no matches in a common period    \n",
    "}\n",
    "\n",
    "def change_name(s):\n",
    "    if(s in country_names_dict):\n",
    "        return country_names_dict[s]\n",
    "    return s\n",
    "\n",
    "data['home_team'] = data['home_team'].apply(lambda s: change_name(s))\n",
    "data['away_team'] = data['away_team'].apply(lambda s: change_name(s))"
   ]
  },
  {
   "cell_type": "code",
   "execution_count": 5,
   "metadata": {},
   "outputs": [],
   "source": [
    "teams = np.sort(pd.concat([data['home_team'],data['away_team']]).unique())\n",
    "flags_list1 = flag_raw['Country'].unique()\n",
    "countries_without_flags = set(teams)-set(flags_list1)\n",
    "useful_flags = np.intersect1d(teams, flags_list1)"
   ]
  },
  {
   "cell_type": "code",
   "execution_count": 6,
   "metadata": {},
   "outputs": [
    {
     "name": "stdout",
     "output_type": "stream",
     "text": [
      "True\n"
     ]
    }
   ],
   "source": [
    "print(len(useful_flags) + len(countries_without_flags) == len(teams))"
   ]
  },
  {
   "cell_type": "code",
   "execution_count": 7,
   "metadata": {},
   "outputs": [
    {
     "name": "stdout",
     "output_type": "stream",
     "text": [
      "• American Samoa• Anguilla• Aruba• Bermuda• British Virgin Islands• Cayman Islands• Curaçao• Czechoslovakia• England• Eswatini• Faroe Islands• Gambia• German Democratic Republic• Gibraltar• Guam• Hong Kong• Macau• Montserrat• New Caledonia• North Macedonia• Northern Ireland• Puerto Rico• Saarland• Saint Vincent and the Grenadines• Scotland• São Tomé and Príncipe• Tahiti• Timor-Leste• Turks and Caicos Islands• U.S. Virgin Islands• Wales• Yemen DPR• Yugoslavia"
     ]
    }
   ],
   "source": [
    "flag = flag_raw[flag_raw[\"Country\"].isin(useful_flags)]\n",
    "for i in sorted(list(countries_without_flags)):\n",
    "    print('•', i, end='')"
   ]
  },
  {
   "cell_type": "code",
   "execution_count": 8,
   "metadata": {},
   "outputs": [],
   "source": [
    "flag = flag.append({\"Country\":\"American Samoa\", \"Images File Name\":\"Flag_of_American_Samoa.svg\", \"ImageURL\":\"https://upload.wikimedia.org/wikipedia/commons/8/87/Flag_of_American_Samoa.svg\"}, ignore_index=True)\n",
    "flag = flag.append({\"Country\":\"Anguilla\", \"Images File Name\":\"Flag_of_Anguilla.svg\", \"ImageURL\":\"https://upload.wikimedia.org/wikipedia/commons/b/b4/Flag_of_Anguilla.svg\"}, ignore_index=True)\n",
    "flag = flag.append({\"Country\":\"Aruba\", \"Images File Name\":\"Flag_of_Aruba.svg\", \"ImageURL\":\"https://upload.wikimedia.org/wikipedia/commons/f/f6/Flag_of_Aruba.svg\"}, ignore_index=True)\n",
    "flag = flag.append({\"Country\":\"Bermuda\", \"Images File Name\":\"Flag_of_Bermuda.svg\", \"ImageURL\":\"https://upload.wikimedia.org/wikipedia/commons/b/bf/Flag_of_Bermuda.svg\"}, ignore_index=True)\n",
    "flag = flag.append({\"Country\":\"British Virgin Islands\", \"Images File Name\":\"Flag_of_the_British_Virgin_Islands.svg\", \"ImageURL\":\"https://upload.wikimedia.org/wikipedia/commons/4/42/Flag_of_the_British_Virgin_Islands.svg\"}, ignore_index=True)\n",
    "flag = flag.append({\"Country\":\"Cayman Islands\", \"Images File Name\":\"Flag_of_the_Cayman_Islands.svg\", \"ImageURL\":\"https://upload.wikimedia.org/wikipedia/commons/0/0f/Flag_of_the_Cayman_Islands.svg\"}, ignore_index=True)\n",
    "flag = flag.append({\"Country\":\"Curaçao\", \"Images File Name\":\"Flag_of_Curacao.svg\", \"ImageURL\":\"https://upload.wikimedia.org/wikipedia/commons/b/b1/Flag_of_Cura%C3%A7ao.svg\"}, ignore_index=True)\n",
    "flag = flag.append({\"Country\":\"Czechoslovakia\", \"Images File Name\":\"Flag_of_Czechoslovakia.svg\", \"ImageURL\":\"https://upload.wikimedia.org/wikipedia/commons/9/94/Greater_coat_of_arms_of_Czechoslovakia_%281918-1938_and_1945-1961%29.svg\"}, ignore_index=True)\n",
    "flag = flag.append({\"Country\":\"England\", \"Images File Name\":\"Flag_of_England.svg\", \"ImageURL\":\"https://upload.wikimedia.org/wikipedia/en/b/be/Flag_of_England.svg\"}, ignore_index=True)\n",
    "flag = flag.append({\"Country\":\"Faroe Islands\", \"Images File Name\":\"Flag_of_the_Faroe_Islands.svg\", \"ImageURL\":\"https://upload.wikimedia.org/wikipedia/commons/3/3c/Flag_of_the_Faroe_Islands.svg\"}, ignore_index=True)\n",
    "flag = flag.append({\"Country\":\"Eswatini\", \"Images File Name\":\"Flag_of_Eswatini.svg\", \"ImageURL\":\"https://upload.wikimedia.org/wikipedia/commons/f/fb/Flag_of_Eswatini.svg\"}, ignore_index=True)\n",
    "flag = flag.append({\"Country\":\"Gambia\", \"Images File Name\":\"Flag_of_Gambia.svg\", \"ImageURL\":\"https://upload.wikimedia.org/wikipedia/commons/7/77/Flag_of_The_Gambia.svg\"}, ignore_index=True)\n",
    "flag = flag.append({\"Country\":\"German Democratic Republic\", \"Images File Name\":\"Flag_of_German_Democratic_Republic.svg\", \"ImageURL\":\"https://upload.wikimedia.org/wikipedia/commons/9/97/Flag_of_the_German_Democratic_Republic.svg\"}, ignore_index=True)\n",
    "flag = flag.append({\"Country\":\"Gibraltar\", \"Images File Name\":\"Flag_of_Gibraltar.svg\", \"ImageURL\":\"https://upload.wikimedia.org/wikipedia/commons/0/02/Flag_of_Gibraltar.svg\"}, ignore_index=True)\n",
    "flag = flag.append({\"Country\":\"Guam\", \"Images File Name\":\"Flag_of_Guam.svg\", \"ImageURL\":\"https://upload.wikimedia.org/wikipedia/commons/0/07/Flag_of_Guam.svg\"}, ignore_index=True)\n",
    "flag = flag.append({\"Country\":\"Hong Kong\", \"Images File Name\":\"Flag_of_Hong_Kong.svg\", \"ImageURL\":\"https://upload.wikimedia.org/wikipedia/commons/5/5b/Flag_of_Hong_Kong.svg\"}, ignore_index=True)\n",
    "flag = flag.append({\"Country\":\"Macau\", \"Images File Name\":\"Flag_of_Macau.svg\", \"ImageURL\":\"https://upload.wikimedia.org/wikipedia/commons/6/63/Flag_of_Macau.svg\"}, ignore_index=True)\n",
    "flag = flag.append({\"Country\":\"Montserrat\", \"Images File Name\":\"Flag_of_Montserrat.svg\", \"ImageURL\":\"https://upload.wikimedia.org/wikipedia/commons/d/d0/Flag_of_Montserrat.svg\"}, ignore_index=True)\n",
    "flag = flag.append({\"Country\":\"New Caledonia\", \"Images File Name\":\"Flag_of_FLNKS.svg\", \"ImageURL\":\"https://upload.wikimedia.org/wikipedia/commons/6/66/Flag_of_FLNKS.svg\"}, ignore_index=True)\n",
    "flag = flag.append({\"Country\":\"North Macedonia\", \"Images File Name\":\"Flag_of_North_Macedonia.svg\", \"ImageURL\":\"https://upload.wikimedia.org/wikipedia/commons/7/79/Flag_of_North_Macedonia.svg\"}, ignore_index=True)\n",
    "flag = flag.append({\"Country\":\"Northern Ireland\", \"Images File Name\":\"Ulster_Banner.svg\", \"ImageURL\":\"https://upload.wikimedia.org/wikipedia/commons/d/d0/Ulster_Banner.svg\"}, ignore_index=True)\n",
    "flag = flag.append({\"Country\":\"Puerto Rico\", \"Images File Name\":\"Flag_of_Puerto_Rico.svg\", \"ImageURL\":\"https://upload.wikimedia.org/wikipedia/commons/2/28/Flag_of_Puerto_Rico.svg\"}, ignore_index=True)\n",
    "flag = flag.append({\"Country\":\"Saarland\", \"Images File Name\":\"Flag_of_Saarland.svg\", \"ImageURL\":\"https://upload.wikimedia.org/wikipedia/commons/f/f7/Flag_of_Saarland.svg\"}, ignore_index=True)\n",
    "flag = flag.append({\"Country\":\"Saint Vincent and the Grenadines\", \"Images File Name\":\"Flag_of_Saint_Vincent_and_the_Grenadines.svg\", \"ImageURL\":\"https://upload.wikimedia.org/wikipedia/commons/6/6d/Flag_of_Saint_Vincent_and_the_Grenadines.svg\"}, ignore_index=True)\n",
    "flag = flag.append({\"Country\":\"Scotland\", \"Images File Name\":\"Flag_of_Scotland.svg\", \"ImageURL\":\"https://upload.wikimedia.org/wikipedia/commons/1/10/Flag_of_Scotland.svg\"}, ignore_index=True)\n",
    "flag = flag.append({\"Country\":\"São Tomé and Príncipe\", \"Images File Name\":\"Flag_of_Sao_Tome_and_Principe.svg\", \"ImageURL\":\"https://upload.wikimedia.org/wikipedia/commons/4/4f/Flag_of_Sao_Tome_and_Principe.svg\"}, ignore_index=True)\n",
    "flag = flag.append({\"Country\":\"Tahiti\", \"Images File Name\":\"Flag_of_French_Polynesia.svg\", \"ImageURL\":\"https://upload.wikimedia.org/wikipedia/commons/d/db/Flag_of_French_Polynesia.svg\"}, ignore_index=True)\n",
    "flag = flag.append({\"Country\":\"Turks and Caicos Islands\", \"Images File Name\":\"Flag_of_the_Turks_and_Caicos_Islands.svg\", \"ImageURL\":\"https://upload.wikimedia.org/wikipedia/commons/a/a0/Flag_of_the_Turks_and_Caicos_Islands.svg\"}, ignore_index=True)\n",
    "flag = flag.append({\"Country\":\"U.S. Virgin Islands\", \"Images File Name\":\"Flag_of_the_United_States_Virgin_Islands.svg\", \"ImageURL\":\"https://upload.wikimedia.org/wikipedia/commons/f/f8/Flag_of_the_United_States_Virgin_Islands.svg\"}, ignore_index=True)\n",
    "flag = flag.append({\"Country\":\"Wales\", \"Images File Name\":\"Flag_of_Wales_%281959%E2%80%93present%29.svg\", \"ImageURL\":\"https://upload.wikimedia.org/wikipedia/commons/a/a9/Flag_of_Wales_%281959%E2%80%93present%29.svg\"}, ignore_index=True)\n",
    "flag = flag.append({\"Country\":\"Yemen DPR\", \"Images File Name\":\"Flag_of_South_Yemen.svg\", \"ImageURL\":\"https://upload.wikimedia.org/wikipedia/commons/d/db/Flag_of_South_Yemen.svg\"}, ignore_index=True)\n",
    "flag = flag.append({\"Country\":\"Yugoslavia\", \"Images File Name\":\"Flag_of_Yugoslavia_%281946-1992%29.svg\", \"ImageURL\":\"https://upload.wikimedia.org/wikipedia/commons/6/61/Flag_of_Yugoslavia_%281946-1992%29.svg\"}, ignore_index=True)\n",
    "flag = flag.append({\"Country\":\"Timor-Leste\", \"Images File Name\":\"Flag_of_East_Timor.svg\", \"ImageURL\":\"https://upload.wikimedia.org/wikipedia/commons/2/26/Flag_of_East_Timor.svg\"}, ignore_index=True)"
   ]
  },
  {
   "cell_type": "code",
   "execution_count": 9,
   "metadata": {},
   "outputs": [],
   "source": [
    "# rename Images File Name column by the country name with Flag_of_ as index\n",
    "flag['Images File Name'] = flag['Country'].apply(lambda c: 'Flag_of_'+c.replace(\" \", \"_\")+'.csv')\n",
    "flag = flag.sort_values(by=['Country'])"
   ]
  },
  {
   "cell_type": "code",
   "execution_count": 10,
   "metadata": {},
   "outputs": [
    {
     "data": {
      "text/plain": [
       "array([ True,  True,  True,  True,  True,  True,  True,  True,  True,\n",
       "        True,  True,  True,  True,  True,  True,  True,  True,  True,\n",
       "        True,  True,  True,  True,  True,  True,  True,  True,  True,\n",
       "        True,  True,  True,  True,  True,  True,  True,  True,  True,\n",
       "        True,  True,  True,  True,  True,  True,  True,  True,  True,\n",
       "        True,  True,  True,  True,  True,  True,  True,  True,  True,\n",
       "        True,  True,  True,  True,  True,  True,  True,  True,  True,\n",
       "        True,  True,  True,  True,  True,  True,  True,  True,  True,\n",
       "        True,  True,  True,  True,  True,  True,  True,  True,  True,\n",
       "        True,  True,  True,  True,  True,  True,  True,  True,  True,\n",
       "        True,  True,  True,  True,  True,  True,  True,  True,  True,\n",
       "        True,  True,  True,  True,  True,  True,  True,  True,  True,\n",
       "        True,  True,  True,  True,  True,  True,  True,  True,  True,\n",
       "        True,  True,  True,  True,  True,  True,  True,  True,  True,\n",
       "        True,  True,  True,  True,  True,  True,  True,  True,  True,\n",
       "        True,  True,  True,  True,  True,  True,  True,  True,  True,\n",
       "        True,  True,  True,  True,  True,  True,  True,  True,  True,\n",
       "        True,  True,  True,  True,  True,  True,  True,  True,  True,\n",
       "        True,  True,  True,  True,  True,  True,  True,  True,  True,\n",
       "        True,  True,  True,  True,  True,  True,  True,  True,  True,\n",
       "        True,  True,  True,  True,  True,  True,  True,  True,  True,\n",
       "        True,  True,  True,  True,  True,  True,  True,  True,  True,\n",
       "        True,  True,  True,  True,  True,  True,  True,  True,  True,\n",
       "        True,  True,  True,  True,  True,  True,  True,  True,  True,\n",
       "        True])"
      ]
     },
     "execution_count": 10,
     "metadata": {},
     "output_type": "execute_result"
    }
   ],
   "source": [
    "flags_list2 = flag[\"Country\"].unique()\n",
    "flags_list2 == teams"
   ]
  },
  {
   "cell_type": "code",
   "execution_count": 11,
   "metadata": {},
   "outputs": [],
   "source": [
    "data.to_csv('data/final_results.csv')\n",
    "flag.to_csv('data/final_flags.csv')"
   ]
  },
  {
   "cell_type": "code",
   "execution_count": 12,
   "metadata": {},
   "outputs": [
    {
     "data": {
      "text/html": [
       "<div>\n",
       "<style scoped>\n",
       "    .dataframe tbody tr th:only-of-type {\n",
       "        vertical-align: middle;\n",
       "    }\n",
       "\n",
       "    .dataframe tbody tr th {\n",
       "        vertical-align: top;\n",
       "    }\n",
       "\n",
       "    .dataframe thead th {\n",
       "        text-align: right;\n",
       "    }\n",
       "</style>\n",
       "<table border=\"1\" class=\"dataframe\">\n",
       "  <thead>\n",
       "    <tr style=\"text-align: right;\">\n",
       "      <th></th>\n",
       "      <th>Country</th>\n",
       "      <th>Images File Name</th>\n",
       "      <th>ImageURL</th>\n",
       "    </tr>\n",
       "  </thead>\n",
       "  <tbody>\n",
       "    <tr>\n",
       "      <td>75</td>\n",
       "      <td>Indonesia</td>\n",
       "      <td>Flag_of_Indonesia.csv</td>\n",
       "      <td>https://upload.wikimedia.org/wikipedia/commons...</td>\n",
       "    </tr>\n",
       "    <tr>\n",
       "      <td>86</td>\n",
       "      <td>Kenya</td>\n",
       "      <td>Flag_of_Kenya.csv</td>\n",
       "      <td>https://upload.wikimedia.org/wikipedia/commons...</td>\n",
       "    </tr>\n",
       "    <tr>\n",
       "      <td>175</td>\n",
       "      <td>Vanuatu</td>\n",
       "      <td>Flag_of_Vanuatu.csv</td>\n",
       "      <td>https://upload.wikimedia.org/wikipedia/commons...</td>\n",
       "    </tr>\n",
       "    <tr>\n",
       "      <td>192</td>\n",
       "      <td>England</td>\n",
       "      <td>Flag_of_England.csv</td>\n",
       "      <td>https://upload.wikimedia.org/wikipedia/en/b/be...</td>\n",
       "    </tr>\n",
       "    <tr>\n",
       "      <td>161</td>\n",
       "      <td>Tanzania</td>\n",
       "      <td>Flag_of_Tanzania.csv</td>\n",
       "      <td>https://upload.wikimedia.org/wikipedia/commons...</td>\n",
       "    </tr>\n",
       "    <tr>\n",
       "      <td>14</td>\n",
       "      <td>Barbados</td>\n",
       "      <td>Flag_of_Barbados.csv</td>\n",
       "      <td>https://upload.wikimedia.org/wikipedia/commons...</td>\n",
       "    </tr>\n",
       "    <tr>\n",
       "      <td>8</td>\n",
       "      <td>Australia</td>\n",
       "      <td>Flag_of_Australia.csv</td>\n",
       "      <td>https://upload.wikimedia.org/wikipedia/commons...</td>\n",
       "    </tr>\n",
       "    <tr>\n",
       "      <td>10</td>\n",
       "      <td>Azerbaijan</td>\n",
       "      <td>Flag_of_Azerbaijan.csv</td>\n",
       "      <td>https://upload.wikimedia.org/wikipedia/commons...</td>\n",
       "    </tr>\n",
       "    <tr>\n",
       "      <td>43</td>\n",
       "      <td>Cyprus</td>\n",
       "      <td>Flag_of_Cyprus.csv</td>\n",
       "      <td>https://upload.wikimedia.org/wikipedia/commons...</td>\n",
       "    </tr>\n",
       "    <tr>\n",
       "      <td>143</td>\n",
       "      <td>Serbia</td>\n",
       "      <td>Flag_of_Serbia.csv</td>\n",
       "      <td>https://upload.wikimedia.org/wikipedia/commons...</td>\n",
       "    </tr>\n",
       "    <tr>\n",
       "      <td>65</td>\n",
       "      <td>Grenada</td>\n",
       "      <td>Flag_of_Grenada.csv</td>\n",
       "      <td>https://upload.wikimedia.org/wikipedia/commons...</td>\n",
       "    </tr>\n",
       "    <tr>\n",
       "      <td>102</td>\n",
       "      <td>Malaysia</td>\n",
       "      <td>Flag_of_Malaysia.csv</td>\n",
       "      <td>https://upload.wikimedia.org/wikipedia/commons...</td>\n",
       "    </tr>\n",
       "    <tr>\n",
       "      <td>125</td>\n",
       "      <td>Palestine</td>\n",
       "      <td>Flag_of_Palestine.csv</td>\n",
       "      <td>https://upload.wikimedia.org/wikipedia/commons...</td>\n",
       "    </tr>\n",
       "    <tr>\n",
       "      <td>215</td>\n",
       "      <td>Yugoslavia</td>\n",
       "      <td>Flag_of_Yugoslavia.csv</td>\n",
       "      <td>https://upload.wikimedia.org/wikipedia/commons...</td>\n",
       "    </tr>\n",
       "    <tr>\n",
       "      <td>108</td>\n",
       "      <td>Mexico</td>\n",
       "      <td>Flag_of_Mexico.csv</td>\n",
       "      <td>https://upload.wikimedia.org/wikipedia/commons...</td>\n",
       "    </tr>\n",
       "    <tr>\n",
       "      <td>212</td>\n",
       "      <td>U.S. Virgin Islands</td>\n",
       "      <td>Flag_of_U.S._Virgin_Islands.csv</td>\n",
       "      <td>https://upload.wikimedia.org/wikipedia/commons...</td>\n",
       "    </tr>\n",
       "    <tr>\n",
       "      <td>131</td>\n",
       "      <td>Poland</td>\n",
       "      <td>Flag_of_Poland.csv</td>\n",
       "      <td>https://upload.wikimedia.org/wikipedia/en/1/12...</td>\n",
       "    </tr>\n",
       "    <tr>\n",
       "      <td>170</td>\n",
       "      <td>Ukraine</td>\n",
       "      <td>Flag_of_Ukraine.csv</td>\n",
       "      <td>https://upload.wikimedia.org/wikipedia/commons...</td>\n",
       "    </tr>\n",
       "    <tr>\n",
       "      <td>119</td>\n",
       "      <td>Nicaragua</td>\n",
       "      <td>Flag_of_Nicaragua.csv</td>\n",
       "      <td>https://upload.wikimedia.org/wikipedia/commons...</td>\n",
       "    </tr>\n",
       "    <tr>\n",
       "      <td>59</td>\n",
       "      <td>France</td>\n",
       "      <td>Flag_of_France.csv</td>\n",
       "      <td>https://upload.wikimedia.org/wikipedia/en/c/c3...</td>\n",
       "    </tr>\n",
       "  </tbody>\n",
       "</table>\n",
       "</div>"
      ],
      "text/plain": [
       "                 Country                 Images File Name  \\\n",
       "75             Indonesia            Flag_of_Indonesia.csv   \n",
       "86                 Kenya                Flag_of_Kenya.csv   \n",
       "175              Vanuatu              Flag_of_Vanuatu.csv   \n",
       "192              England              Flag_of_England.csv   \n",
       "161             Tanzania             Flag_of_Tanzania.csv   \n",
       "14              Barbados             Flag_of_Barbados.csv   \n",
       "8              Australia            Flag_of_Australia.csv   \n",
       "10            Azerbaijan           Flag_of_Azerbaijan.csv   \n",
       "43                Cyprus               Flag_of_Cyprus.csv   \n",
       "143               Serbia               Flag_of_Serbia.csv   \n",
       "65               Grenada              Flag_of_Grenada.csv   \n",
       "102             Malaysia             Flag_of_Malaysia.csv   \n",
       "125            Palestine            Flag_of_Palestine.csv   \n",
       "215           Yugoslavia           Flag_of_Yugoslavia.csv   \n",
       "108               Mexico               Flag_of_Mexico.csv   \n",
       "212  U.S. Virgin Islands  Flag_of_U.S._Virgin_Islands.csv   \n",
       "131               Poland               Flag_of_Poland.csv   \n",
       "170              Ukraine              Flag_of_Ukraine.csv   \n",
       "119            Nicaragua            Flag_of_Nicaragua.csv   \n",
       "59                France               Flag_of_France.csv   \n",
       "\n",
       "                                              ImageURL  \n",
       "75   https://upload.wikimedia.org/wikipedia/commons...  \n",
       "86   https://upload.wikimedia.org/wikipedia/commons...  \n",
       "175  https://upload.wikimedia.org/wikipedia/commons...  \n",
       "192  https://upload.wikimedia.org/wikipedia/en/b/be...  \n",
       "161  https://upload.wikimedia.org/wikipedia/commons...  \n",
       "14   https://upload.wikimedia.org/wikipedia/commons...  \n",
       "8    https://upload.wikimedia.org/wikipedia/commons...  \n",
       "10   https://upload.wikimedia.org/wikipedia/commons...  \n",
       "43   https://upload.wikimedia.org/wikipedia/commons...  \n",
       "143  https://upload.wikimedia.org/wikipedia/commons...  \n",
       "65   https://upload.wikimedia.org/wikipedia/commons...  \n",
       "102  https://upload.wikimedia.org/wikipedia/commons...  \n",
       "125  https://upload.wikimedia.org/wikipedia/commons...  \n",
       "215  https://upload.wikimedia.org/wikipedia/commons...  \n",
       "108  https://upload.wikimedia.org/wikipedia/commons...  \n",
       "212  https://upload.wikimedia.org/wikipedia/commons...  \n",
       "131  https://upload.wikimedia.org/wikipedia/en/1/12...  \n",
       "170  https://upload.wikimedia.org/wikipedia/commons...  \n",
       "119  https://upload.wikimedia.org/wikipedia/commons...  \n",
       "59   https://upload.wikimedia.org/wikipedia/en/c/c3...  "
      ]
     },
     "execution_count": 12,
     "metadata": {},
     "output_type": "execute_result"
    }
   ],
   "source": [
    "flag.sample(20)"
   ]
  },
  {
   "cell_type": "code",
   "execution_count": null,
   "metadata": {},
   "outputs": [],
   "source": []
  },
  {
   "cell_type": "code",
   "execution_count": null,
   "metadata": {},
   "outputs": [],
   "source": []
  },
  {
   "cell_type": "code",
   "execution_count": null,
   "metadata": {},
   "outputs": [],
   "source": []
  },
  {
   "cell_type": "code",
   "execution_count": null,
   "metadata": {},
   "outputs": [],
   "source": []
  },
  {
   "cell_type": "code",
   "execution_count": 14,
   "metadata": {},
   "outputs": [
    {
     "data": {
      "text/plain": [
       "array(['Afghanistan', 'Albania', 'Algeria', 'American Samoa', 'Andorra',\n",
       "       'Angola', 'Anguilla', 'Antigua and Barbuda', 'Argentina',\n",
       "       'Armenia', 'Aruba', 'Australia', 'Austria', 'Azerbaijan',\n",
       "       'Bahamas', 'Bahrain', 'Bangladesh', 'Barbados', 'Belarus',\n",
       "       'Belgium', 'Belize', 'Benin', 'Bermuda', 'Bhutan', 'Bolivia',\n",
       "       'Bosnia and Herzegovina', 'Botswana', 'Brazil',\n",
       "       'British Virgin Islands', 'Brunei', 'Bulgaria', 'Burkina Faso',\n",
       "       'Burundi', 'Cambodia', 'Cameroon', 'Canada', 'Cape Verde',\n",
       "       'Cayman Islands', 'Central African Republic', 'Chad', 'Chile',\n",
       "       'China', 'Colombia', 'Comoros', 'Cook Islands', 'Costa Rica',\n",
       "       'Croatia', 'Cuba', 'Curaçao', 'Cyprus', 'Czech Republic',\n",
       "       'Czechoslovakia', 'Democratic Republic of Congo', 'Denmark',\n",
       "       'Djibouti', 'Dominica', 'Dominican Republic', 'East Timor',\n",
       "       'Ecuador', 'Egypt', 'El Salvador', 'England', 'Equatorial Guinea',\n",
       "       'Eritrea', 'Estonia', 'Eswatini', 'Ethiopia', 'Faroe Islands',\n",
       "       'Fiji', 'Finland', 'France', 'Gabon', 'Gambia', 'Georgia',\n",
       "       'German Democratic Republic', 'Germany', 'Ghana', 'Gibraltar',\n",
       "       'Greece', 'Grenada', 'Guam', 'Guatemala', 'Guinea',\n",
       "       'Guinea-Bissau', 'Guyana', 'Haiti', 'Honduras', 'Hong Kong',\n",
       "       'Hungary', 'Iceland', 'India', 'Indonesia', 'Iran', 'Iraq',\n",
       "       'Ireland', 'Israel', 'Italy', 'Ivory Coast', 'Jamaica', 'Japan',\n",
       "       'Jordan', 'Kazakhstan', 'Kenya', 'Kosovo', 'Kuwait', 'Kyrgyzstan',\n",
       "       'Laos', 'Latvia', 'Lebanon', 'Lesotho', 'Liberia', 'Libya',\n",
       "       'Liechtenstein', 'Lithuania', 'Luxembourg', 'Macau', 'Madagascar',\n",
       "       'Malawi', 'Malaysia', 'Maldives', 'Mali', 'Malta', 'Mauritania',\n",
       "       'Mauritius', 'Mexico', 'Moldova', 'Mongolia', 'Montenegro',\n",
       "       'Montserrat', 'Morocco', 'Mozambique', 'Myanmar', 'Namibia',\n",
       "       'Nepal', 'Netherlands', 'New Caledonia', 'New Zealand',\n",
       "       'Nicaragua', 'Niger', 'Nigeria', 'North Korea', 'North Macedonia',\n",
       "       'Northern Ireland', 'Norway', 'Oman', 'Pakistan', 'Palestine',\n",
       "       'Panama', 'Papua New Guinea', 'Paraguay', 'Peru', 'Philippines',\n",
       "       'Poland', 'Portugal', 'Puerto Rico', 'Qatar', 'Republic of China',\n",
       "       'Republic of Congo', 'Romania', 'Russia', 'Rwanda', 'Saarland',\n",
       "       'Saint Kitts and Nevis', 'Saint Lucia',\n",
       "       'Saint Vincent and the Grenadines', 'Samoa', 'San Marino',\n",
       "       'Saudi Arabia', 'Scotland', 'Senegal', 'Serbia', 'Seychelles',\n",
       "       'Sierra Leone', 'Singapore', 'Slovakia', 'Slovenia',\n",
       "       'Solomon Islands', 'Somalia', 'South Africa', 'South Korea',\n",
       "       'South Sudan', 'Spain', 'Sri Lanka', 'Sudan', 'Suriname', 'Sweden',\n",
       "       'Switzerland', 'Syria', 'São Tomé and Príncipe', 'Tahiti',\n",
       "       'Tajikistan', 'Tanzania', 'Thailand', 'Timor-Leste', 'Togo',\n",
       "       'Tonga', 'Trinidad and Tobago', 'Tunisia', 'Turkey',\n",
       "       'Turkmenistan', 'Turks and Caicos Islands', 'U.S. Virgin Islands',\n",
       "       'Uganda', 'Ukraine', 'United Arab Emirates', 'United States',\n",
       "       'Uruguay', 'Uzbekistan', 'Vanuatu', 'Venezuela', 'Vietnam',\n",
       "       'Wales', 'Yemen', 'Yemen DPR', 'Yugoslavia', 'Zambia', 'Zimbabwe'],\n",
       "      dtype=object)"
      ]
     },
     "execution_count": 14,
     "metadata": {},
     "output_type": "execute_result"
    }
   ],
   "source": [
    "np.union1d(data.home_team.unique(),data.away_team.unique())"
   ]
  },
  {
   "cell_type": "code",
   "execution_count": null,
   "metadata": {},
   "outputs": [],
   "source": []
  }
 ],
 "metadata": {
  "kernelspec": {
   "display_name": "Python 3",
   "language": "python",
   "name": "python3"
  },
  "language_info": {
   "codemirror_mode": {
    "name": "ipython",
    "version": 3
   },
   "file_extension": ".py",
   "mimetype": "text/x-python",
   "name": "python",
   "nbconvert_exporter": "python",
   "pygments_lexer": "ipython3",
   "version": "3.7.4"
  }
 },
 "nbformat": 4,
 "nbformat_minor": 2
}
