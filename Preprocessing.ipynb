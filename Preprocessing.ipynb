{
 "cells": [
  {
   "cell_type": "markdown",
   "metadata": {},
   "source": [
    "# Preprocessing"
   ]
  },
  {
   "cell_type": "code",
   "execution_count": 1,
   "metadata": {},
   "outputs": [],
   "source": [
    "import pandas as pd\n",
    "import numpy as np"
   ]
  },
  {
   "cell_type": "code",
   "execution_count": 2,
   "metadata": {},
   "outputs": [],
   "source": [
    "data_raw = pd.read_csv('data/results.csv')\n",
    "flag_raw = pd.read_csv('data/flags.csv')"
   ]
  },
  {
   "cell_type": "code",
   "execution_count": 3,
   "metadata": {},
   "outputs": [],
   "source": [
    "#Removing all teams not recognised by the FIFA (non-national and unofficial teams)\n",
    "official_teams=data_raw[data_raw['tournament']=='FIFA World Cup qualification']\n",
    "official_teams=pd.concat([official_teams['home_team'],official_teams['away_team']]).unique()\n",
    "team_filter=data_raw['home_team'].isin(official_teams) & data_raw['away_team'].isin(official_teams)\n",
    "data=data_raw[team_filter]"
   ]
  },
  {
   "cell_type": "code",
   "execution_count": 4,
   "metadata": {},
   "outputs": [
    {
     "name": "stderr",
     "output_type": "stream",
     "text": [
      "/Users/leobouraux/anaconda3/lib/python3.7/site-packages/ipykernel_launcher.py:19: SettingWithCopyWarning: \n",
      "A value is trying to be set on a copy of a slice from a DataFrame.\n",
      "Try using .loc[row_indexer,col_indexer] = value instead\n",
      "\n",
      "See the caveats in the documentation: http://pandas.pydata.org/pandas-docs/stable/user_guide/indexing.html#returning-a-view-versus-a-copy\n",
      "/Users/leobouraux/anaconda3/lib/python3.7/site-packages/ipykernel_launcher.py:20: SettingWithCopyWarning: \n",
      "A value is trying to be set on a copy of a slice from a DataFrame.\n",
      "Try using .loc[row_indexer,col_indexer] = value instead\n",
      "\n",
      "See the caveats in the documentation: http://pandas.pydata.org/pandas-docs/stable/user_guide/indexing.html#returning-a-view-versus-a-copy\n"
     ]
    }
   ],
   "source": [
    "#Change names so that they fit with flags names\n",
    "\n",
    "country_names_dict = {\n",
    "    \"Chinese Taipei\": \"Republic of China\",\n",
    "    \"China PR\": \"China\",\n",
    "    \"Congo\":\"Republic of Congo\",\n",
    "    \"DR Congo\":\"Democratic Republic of Congo\",\n",
    "    \"German DR\":\"German Democratic Republic\",\n",
    "    \"Republic of Ireland\":\"Ireland\",\n",
    "    \"Burma\":\"Myanmar\",\n",
    "    \"Vietnam Republic\":\"Vietnam\", #no matches in a common period    \n",
    "}\n",
    "\n",
    "def change_name(s):\n",
    "    if(s in country_names_dict):\n",
    "        return country_names_dict[s]\n",
    "    return s\n",
    "\n",
    "data['home_team'] = data['home_team'].apply(lambda s: change_name(s))\n",
    "data['away_team'] = data['away_team'].apply(lambda s: change_name(s))"
   ]
  },
  {
   "cell_type": "code",
   "execution_count": 5,
   "metadata": {},
   "outputs": [],
   "source": [
    "teams = np.sort(pd.concat([data['home_team'],data['away_team']]).unique())\n",
    "flags_list1 = flag_raw['Country'].unique()\n",
    "countries_without_flags = set(teams)-set(flags_list1)\n",
    "useful_flags = np.intersect1d(teams, flags_list1)"
   ]
  },
  {
   "cell_type": "code",
   "execution_count": 6,
   "metadata": {},
   "outputs": [
    {
     "name": "stdout",
     "output_type": "stream",
     "text": [
      "True\n"
     ]
    }
   ],
   "source": [
    "print(len(useful_flags) + len(countries_without_flags) == len(teams))"
   ]
  },
  {
   "cell_type": "code",
   "execution_count": 7,
   "metadata": {},
   "outputs": [
    {
     "name": "stdout",
     "output_type": "stream",
     "text": [
      "• American Samoa• Anguilla• Aruba• Bermuda• British Virgin Islands• Cayman Islands• Curaçao• Czechoslovakia• England• Eswatini• Faroe Islands• Gambia• German Democratic Republic• Gibraltar• Guam• Hong Kong• Macau• Montserrat• New Caledonia• North Macedonia• Northern Ireland• Puerto Rico• Saarland• Saint Vincent and the Grenadines• Scotland• São Tomé and Príncipe• Tahiti• Timor-Leste• Turks and Caicos Islands• U.S. Virgin Islands• Wales• Yemen DPR• Yugoslavia"
     ]
    }
   ],
   "source": [
    "flag = flag_raw[flag_raw[\"Country\"].isin(useful_flags)]\n",
    "for i in sorted(list(countries_without_flags)):\n",
    "    print('•', i, end='')"
   ]
  },
  {
   "cell_type": "code",
   "execution_count": 8,
   "metadata": {},
   "outputs": [],
   "source": [
    "flag = flag.append({\"Country\":\"American Samoa\", \"Images File Name\":\"Flag_of_American_Samoa.svg\", \"ImageURL\":\"https://upload.wikimedia.org/wikipedia/commons/8/87/Flag_of_American_Samoa.svg\"}, ignore_index=True)\n",
    "flag = flag.append({\"Country\":\"Anguilla\", \"Images File Name\":\"Flag_of_Anguilla.svg\", \"ImageURL\":\"https://upload.wikimedia.org/wikipedia/commons/b/b4/Flag_of_Anguilla.svg\"}, ignore_index=True)\n",
    "flag = flag.append({\"Country\":\"Aruba\", \"Images File Name\":\"Flag_of_Aruba.svg\", \"ImageURL\":\"https://upload.wikimedia.org/wikipedia/commons/f/f6/Flag_of_Aruba.svg\"}, ignore_index=True)\n",
    "flag = flag.append({\"Country\":\"Bermuda\", \"Images File Name\":\"Flag_of_Bermuda.svg\", \"ImageURL\":\"https://upload.wikimedia.org/wikipedia/commons/b/bf/Flag_of_Bermuda.svg\"}, ignore_index=True)\n",
    "flag = flag.append({\"Country\":\"British Virgin Islands\", \"Images File Name\":\"Flag_of_the_British_Virgin_Islands.svg\", \"ImageURL\":\"https://upload.wikimedia.org/wikipedia/commons/4/42/Flag_of_the_British_Virgin_Islands.svg\"}, ignore_index=True)\n",
    "flag = flag.append({\"Country\":\"Cayman Islands\", \"Images File Name\":\"Flag_of_the_Cayman_Islands.svg\", \"ImageURL\":\"https://upload.wikimedia.org/wikipedia/commons/0/0f/Flag_of_the_Cayman_Islands.svg\"}, ignore_index=True)\n",
    "flag = flag.append({\"Country\":\"Curaçao\", \"Images File Name\":\"Flag_of_Cura%C3%A7ao.svg\", \"ImageURL\":\"https://upload.wikimedia.org/wikipedia/commons/b/b1/Flag_of_Cura%C3%A7ao.svg\"}, ignore_index=True)\n",
    "flag = flag.append({\"Country\":\"Czechoslovakia\", \"Images File Name\":\"Flag_of_the_Czech_Republic.svg\", \"ImageURL\":\"https://upload.wikimedia.org/wikipedia/commons/c/cb/Flag_of_the_Czech_Republic.svg\"}, ignore_index=True)\n",
    "flag = flag.append({\"Country\":\"England\", \"Images File Name\":\"Flag_of_England.svg\", \"ImageURL\":\"https://upload.wikimedia.org/wikipedia/en/b/be/Flag_of_England.svg\"}, ignore_index=True)\n",
    "flag = flag.append({\"Country\":\"Faroe Islands\", \"Images File Name\":\"Flag_of_the_Faroe_Islands.svg\", \"ImageURL\":\"https://upload.wikimedia.org/wikipedia/commons/3/3c/Flag_of_the_Faroe_Islands.svg\"}, ignore_index=True)\n",
    "flag = flag.append({\"Country\":\"Eswatini\", \"Images File Name\":\"Flag_of_Eswatini.svg\", \"ImageURL\":\"https://upload.wikimedia.org/wikipedia/commons/f/fb/Flag_of_Eswatini.svg\"}, ignore_index=True)\n",
    "flag = flag.append({\"Country\":\"Gambia\", \"Images File Name\":\"Flag_of_The_Gambia.svg\", \"ImageURL\":\"https://upload.wikimedia.org/wikipedia/commons/7/77/Flag_of_The_Gambia.svg\"}, ignore_index=True)\n",
    "flag = flag.append({\"Country\":\"German Democratic Republic\", \"Images File Name\":\"Flag_of_the_German_Democratic_Republic.svg\", \"ImageURL\":\"https://upload.wikimedia.org/wikipedia/commons/9/97/Flag_of_the_German_Democratic_Republic.svg\"}, ignore_index=True)\n",
    "flag = flag.append({\"Country\":\"Gibraltar\", \"Images File Name\":\"Flag_of_Gibraltar.svg\", \"ImageURL\":\"https://upload.wikimedia.org/wikipedia/commons/0/02/Flag_of_Gibraltar.svg\"}, ignore_index=True)\n",
    "flag = flag.append({\"Country\":\"Guam\", \"Images File Name\":\"Flag_of_Guam.svg\", \"ImageURL\":\"https://upload.wikimedia.org/wikipedia/commons/0/07/Flag_of_Guam.svg\"}, ignore_index=True)\n",
    "flag = flag.append({\"Country\":\"Hong Kong\", \"Images File Name\":\"Flag_of_Hong_Kong.svg\", \"ImageURL\":\"https://upload.wikimedia.org/wikipedia/commons/5/5b/Flag_of_Hong_Kong.svg\"}, ignore_index=True)\n",
    "flag = flag.append({\"Country\":\"Macau\", \"Images File Name\":\"Flag_of_Macau.svg\", \"ImageURL\":\"https://upload.wikimedia.org/wikipedia/commons/6/63/Flag_of_Macau.svg\"}, ignore_index=True)\n",
    "flag = flag.append({\"Country\":\"Montserrat\", \"Images File Name\":\"Flag_of_Montserrat.svg\", \"ImageURL\":\"https://upload.wikimedia.org/wikipedia/commons/d/d0/Flag_of_Montserrat.svg\"}, ignore_index=True)\n",
    "flag = flag.append({\"Country\":\"New Caledonia\", \"Images File Name\":\"Flag_of_FLNKS.svg\", \"ImageURL\":\"https://upload.wikimedia.org/wikipedia/commons/6/66/Flag_of_FLNKS.svg\"}, ignore_index=True)\n",
    "flag = flag.append({\"Country\":\"North Macedonia\", \"Images File Name\":\"Flag_of_North_Macedonia.svg\", \"ImageURL\":\"https://upload.wikimedia.org/wikipedia/commons/7/79/Flag_of_North_Macedonia.svg\"}, ignore_index=True)\n",
    "flag = flag.append({\"Country\":\"Northern Ireland\", \"Images File Name\":\"Ulster_Banner.svg\", \"ImageURL\":\"https://upload.wikimedia.org/wikipedia/commons/d/d0/Ulster_Banner.svg\"}, ignore_index=True)\n",
    "flag = flag.append({\"Country\":\"Puerto Rico\", \"Images File Name\":\"Flag_of_Puerto_Rico.svg\", \"ImageURL\":\"https://upload.wikimedia.org/wikipedia/commons/2/28/Flag_of_Puerto_Rico.svg\"}, ignore_index=True)\n",
    "flag = flag.append({\"Country\":\"Saarland\", \"Images File Name\":\"Flag_of_Saarland.svg\", \"ImageURL\":\"https://upload.wikimedia.org/wikipedia/commons/f/f7/Flag_of_Saarland.svg\"}, ignore_index=True)\n",
    "flag = flag.append({\"Country\":\"Saint Vincent and the Grenadines\", \"Images File Name\":\"Flag_of_Saint_Vincent_and_the_Grenadines.svg\", \"ImageURL\":\"https://upload.wikimedia.org/wikipedia/commons/6/6d/Flag_of_Saint_Vincent_and_the_Grenadines.svg\"}, ignore_index=True)\n",
    "flag = flag.append({\"Country\":\"Scotland\", \"Images File Name\":\"Flag_of_Scotland.svg\", \"ImageURL\":\"https://upload.wikimedia.org/wikipedia/commons/1/10/Flag_of_Scotland.svg\"}, ignore_index=True)\n",
    "flag = flag.append({\"Country\":\"São Tomé and Príncipe\", \"Images File Name\":\"Flag_of_Sao_Tome_and_Principe.svg\", \"ImageURL\":\"https://upload.wikimedia.org/wikipedia/commons/4/4f/Flag_of_Sao_Tome_and_Principe.svg\"}, ignore_index=True)\n",
    "flag = flag.append({\"Country\":\"Tahiti\", \"Images File Name\":\"Flag_of_French_Polynesia.svg\", \"ImageURL\":\"https://upload.wikimedia.org/wikipedia/commons/d/db/Flag_of_French_Polynesia.svg\"}, ignore_index=True)\n",
    "flag = flag.append({\"Country\":\"Turks and Caicos Islands\", \"Images File Name\":\"Flag_of_the_Turks_and_Caicos_Islands.svg\", \"ImageURL\":\"https://upload.wikimedia.org/wikipedia/commons/a/a0/Flag_of_the_Turks_and_Caicos_Islands.svg\"}, ignore_index=True)\n",
    "flag = flag.append({\"Country\":\"U.S. Virgin Islands\", \"Images File Name\":\"Flag_of_the_United_States_Virgin_Islands.svg\", \"ImageURL\":\"https://upload.wikimedia.org/wikipedia/commons/f/f8/Flag_of_the_United_States_Virgin_Islands.svg\"}, ignore_index=True)\n",
    "flag = flag.append({\"Country\":\"Wales\", \"Images File Name\":\"Flag_of_Wales_%281959%E2%80%93present%29.svg\", \"ImageURL\":\"https://upload.wikimedia.org/wikipedia/commons/a/a9/Flag_of_Wales_%281959%E2%80%93present%29.svg\"}, ignore_index=True)\n",
    "flag = flag.append({\"Country\":\"Yemen DPR\", \"Images File Name\":\"Flag_of_South_Yemen.svg\", \"ImageURL\":\"https://upload.wikimedia.org/wikipedia/commons/d/db/Flag_of_South_Yemen.svg\"}, ignore_index=True)\n",
    "flag = flag.append({\"Country\":\"Yugoslavia\", \"Images File Name\":\"Flag_of_Yugoslavia_%281946-1992%29.svg\", \"ImageURL\":\"https://upload.wikimedia.org/wikipedia/commons/6/61/Flag_of_Yugoslavia_%281946-1992%29.svg\"}, ignore_index=True)\n",
    "flag = flag.append({\"Country\":\"Timor-Leste\", \"Images File Name\":\"Flag_of_East_Timor.svg\", \"ImageURL\":\"https://upload.wikimedia.org/wikipedia/commons/2/26/Flag_of_East_Timor.svg\"}, ignore_index=True)\n",
    "\n",
    "flag = flag.sort_values(by=['Country'])"
   ]
  },
  {
   "cell_type": "code",
   "execution_count": 10,
   "metadata": {},
   "outputs": [
    {
     "data": {
      "text/plain": [
       "array([ True,  True,  True,  True,  True,  True,  True,  True,  True,\n",
       "        True,  True,  True,  True,  True,  True,  True,  True,  True,\n",
       "        True,  True,  True,  True,  True,  True,  True,  True,  True,\n",
       "        True,  True,  True,  True,  True,  True,  True,  True,  True,\n",
       "        True,  True,  True,  True,  True,  True,  True,  True,  True,\n",
       "        True,  True,  True,  True,  True,  True,  True,  True,  True,\n",
       "        True,  True,  True,  True,  True,  True,  True,  True,  True,\n",
       "        True,  True,  True,  True,  True,  True,  True,  True,  True,\n",
       "        True,  True,  True,  True,  True,  True,  True,  True,  True,\n",
       "        True,  True,  True,  True,  True,  True,  True,  True,  True,\n",
       "        True,  True,  True,  True,  True,  True,  True,  True,  True,\n",
       "        True,  True,  True,  True,  True,  True,  True,  True,  True,\n",
       "        True,  True,  True,  True,  True,  True,  True,  True,  True,\n",
       "        True,  True,  True,  True,  True,  True,  True,  True,  True,\n",
       "        True,  True,  True,  True,  True,  True,  True,  True,  True,\n",
       "        True,  True,  True,  True,  True,  True,  True,  True,  True,\n",
       "        True,  True,  True,  True,  True,  True,  True,  True,  True,\n",
       "        True,  True,  True,  True,  True,  True,  True,  True,  True,\n",
       "        True,  True,  True,  True,  True,  True,  True,  True,  True,\n",
       "        True,  True,  True,  True,  True,  True,  True,  True,  True,\n",
       "        True,  True,  True,  True,  True,  True,  True,  True,  True,\n",
       "        True,  True,  True,  True,  True,  True,  True,  True,  True,\n",
       "        True,  True,  True,  True,  True,  True,  True,  True,  True,\n",
       "        True,  True,  True,  True,  True,  True,  True,  True,  True,\n",
       "        True])"
      ]
     },
     "execution_count": 10,
     "metadata": {},
     "output_type": "execute_result"
    }
   ],
   "source": [
    "flags_list2 = flag[\"Country\"].unique()\n",
    "flags_list2 == teams"
   ]
  },
  {
   "cell_type": "code",
   "execution_count": 11,
   "metadata": {},
   "outputs": [],
   "source": [
    "data.to_csv('data/final_results.csv')\n",
    "data.to_csv('data/final_flags.csv')"
   ]
  },
  {
   "cell_type": "code",
   "execution_count": null,
   "metadata": {},
   "outputs": [],
   "source": []
  }
 ],
 "metadata": {
  "kernelspec": {
   "display_name": "Python 3",
   "language": "python",
   "name": "python3"
  },
  "language_info": {
   "codemirror_mode": {
    "name": "ipython",
    "version": 3
   },
   "file_extension": ".py",
   "mimetype": "text/x-python",
   "name": "python",
   "nbconvert_exporter": "python",
   "pygments_lexer": "ipython3",
   "version": "3.7.4"
  }
 },
 "nbformat": 4,
 "nbformat_minor": 2
}
