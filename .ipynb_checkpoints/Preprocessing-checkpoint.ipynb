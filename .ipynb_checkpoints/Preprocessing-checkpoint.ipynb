{
 "cells": [
  {
   "cell_type": "markdown",
   "metadata": {},
   "source": [
    "# Preprocessing"
   ]
  },
  {
   "cell_type": "code",
   "execution_count": 56,
   "metadata": {},
   "outputs": [],
   "source": [
    "import pandas as pd\n",
    "import numpy as np"
   ]
  },
  {
   "cell_type": "code",
   "execution_count": 57,
   "metadata": {},
   "outputs": [],
   "source": [
    "data=pd.read_csv('data/results.csv')\n",
    "flag = pd.read_csv('data/Country_Flags.csv')"
   ]
  },
  {
   "cell_type": "code",
   "execution_count": 72,
   "metadata": {},
   "outputs": [],
   "source": [
    "#Removing all teams not recognised by the FIFA (non-national and unofficial teams)\n",
    "official_teams=data[data['tournament']=='FIFA World Cup qualification']\n",
    "official_teams=pd.concat([official_teams['home_team'],official_teams['away_team']]).unique()\n",
    "team_filter=data['home_team'].isin(official_teams) & data['away_team'].isin(official_teams)\n",
    "data=data[team_filter]"
   ]
  },
  {
   "cell_type": "code",
   "execution_count": 73,
   "metadata": {},
   "outputs": [],
   "source": [
    "#Change names so that they fit with flags names\n",
    "\n",
    "country_names_dict = {\n",
    "    \"Chinese Taipei\": \"Republic of China\",\n",
    "    \"China PR\": \"China\",\n",
    "    \"Congo\":\"Republic of Congo\",\n",
    "    \"DR Congo\":\"Democratic Republic of Congo\",\n",
    "    \"German DR\":\"German Democratic Republic\",\n",
    "    \"Republic of Ireland\":\"Ireland\"\n",
    "}\n",
    "\n",
    "def change_name(s):\n",
    "    if(s in country_names_dict):\n",
    "        return country_names_dict[s]\n",
    "    return s\n",
    "\n",
    "data['home_team'] = data['home_team'].apply(lambda s: change_name(s))\n",
    "data['away_team'] = data['home_team'].apply(lambda s: change_name(s))"
   ]
  },
  {
   "cell_type": "code",
   "execution_count": 74,
   "metadata": {},
   "outputs": [],
   "source": [
    "teams = np.sort(pd.concat([data['home_team'],data['away_team']]).unique())\n",
    "flags = flag['Country'].unique()\n",
    "countries_without_flags = set(teams)-set(flags)\n",
    "useful_flags = np.intersect1d(teams, flags)"
   ]
  },
  {
   "cell_type": "code",
   "execution_count": 75,
   "metadata": {},
   "outputs": [
    {
     "name": "stdout",
     "output_type": "stream",
     "text": [
      "True\n"
     ]
    }
   ],
   "source": [
    "print(len(useful_flags) + len(countries_without_flags) == len(teams))"
   ]
  },
  {
   "cell_type": "code",
   "execution_count": 82,
   "metadata": {},
   "outputs": [],
   "source": [
    "flag = flag[flag[\"Country\"].isin(useful_flags) ]"
   ]
  },
  {
   "cell_type": "code",
   "execution_count": 83,
   "metadata": {},
   "outputs": [
    {
     "data": {
      "text/html": [
       "<div>\n",
       "<style scoped>\n",
       "    .dataframe tbody tr th:only-of-type {\n",
       "        vertical-align: middle;\n",
       "    }\n",
       "\n",
       "    .dataframe tbody tr th {\n",
       "        vertical-align: top;\n",
       "    }\n",
       "\n",
       "    .dataframe thead th {\n",
       "        text-align: right;\n",
       "    }\n",
       "</style>\n",
       "<table border=\"1\" class=\"dataframe\">\n",
       "  <thead>\n",
       "    <tr style=\"text-align: right;\">\n",
       "      <th></th>\n",
       "      <th>Country</th>\n",
       "      <th>Images File Name</th>\n",
       "      <th>ImageURL</th>\n",
       "    </tr>\n",
       "  </thead>\n",
       "  <tbody>\n",
       "    <tr>\n",
       "      <td>0</td>\n",
       "      <td>Afghanistan</td>\n",
       "      <td>Flag_of_Afghanistan.svg</td>\n",
       "      <td>https://upload.wikimedia.org/wikipedia/commons...</td>\n",
       "    </tr>\n",
       "    <tr>\n",
       "      <td>1</td>\n",
       "      <td>Albania</td>\n",
       "      <td>Flag_of_Albania.svg</td>\n",
       "      <td>https://upload.wikimedia.org/wikipedia/commons...</td>\n",
       "    </tr>\n",
       "    <tr>\n",
       "      <td>2</td>\n",
       "      <td>Algeria</td>\n",
       "      <td>Flag_of_Algeria.svg</td>\n",
       "      <td>https://upload.wikimedia.org/wikipedia/commons...</td>\n",
       "    </tr>\n",
       "    <tr>\n",
       "      <td>3</td>\n",
       "      <td>Andorra</td>\n",
       "      <td>Flag_of_Andorra.svg</td>\n",
       "      <td>https://upload.wikimedia.org/wikipedia/commons...</td>\n",
       "    </tr>\n",
       "    <tr>\n",
       "      <td>4</td>\n",
       "      <td>Angola</td>\n",
       "      <td>Flag_of_Angola.svg</td>\n",
       "      <td>https://upload.wikimedia.org/wikipedia/commons...</td>\n",
       "    </tr>\n",
       "    <tr>\n",
       "      <td>...</td>\n",
       "      <td>...</td>\n",
       "      <td>...</td>\n",
       "      <td>...</td>\n",
       "    </tr>\n",
       "    <tr>\n",
       "      <td>180</td>\n",
       "      <td>Zimbabwe</td>\n",
       "      <td>Flag_of_Zimbabwe.svg</td>\n",
       "      <td>https://upload.wikimedia.org/wikipedia/commons...</td>\n",
       "    </tr>\n",
       "    <tr>\n",
       "      <td>181</td>\n",
       "      <td>Cook Islands</td>\n",
       "      <td>Flag_of_the_Cook_Islands.svg</td>\n",
       "      <td>https://upload.wikimedia.org/wikipedia/commons...</td>\n",
       "    </tr>\n",
       "    <tr>\n",
       "      <td>182</td>\n",
       "      <td>Kosovo</td>\n",
       "      <td>Flag_of_Kosovo.svg</td>\n",
       "      <td>https://upload.wikimedia.org/wikipedia/commons...</td>\n",
       "    </tr>\n",
       "    <tr>\n",
       "      <td>183</td>\n",
       "      <td>Republic of China</td>\n",
       "      <td>Flag_of_the_Republic_of_China.svg</td>\n",
       "      <td>https://upload.wikimedia.org/wikipedia/commons...</td>\n",
       "    </tr>\n",
       "    <tr>\n",
       "      <td>184</td>\n",
       "      <td>a</td>\n",
       "      <td>b</td>\n",
       "      <td>c</td>\n",
       "    </tr>\n",
       "  </tbody>\n",
       "</table>\n",
       "<p>185 rows × 3 columns</p>\n",
       "</div>"
      ],
      "text/plain": [
       "               Country                   Images File Name  \\\n",
       "0          Afghanistan            Flag_of_Afghanistan.svg   \n",
       "1              Albania                Flag_of_Albania.svg   \n",
       "2              Algeria                Flag_of_Algeria.svg   \n",
       "3              Andorra                Flag_of_Andorra.svg   \n",
       "4               Angola                 Flag_of_Angola.svg   \n",
       "..                 ...                                ...   \n",
       "180           Zimbabwe               Flag_of_Zimbabwe.svg   \n",
       "181       Cook Islands       Flag_of_the_Cook_Islands.svg   \n",
       "182             Kosovo                 Flag_of_Kosovo.svg   \n",
       "183  Republic of China  Flag_of_the_Republic_of_China.svg   \n",
       "184                  a                                  b   \n",
       "\n",
       "                                              ImageURL  \n",
       "0    https://upload.wikimedia.org/wikipedia/commons...  \n",
       "1    https://upload.wikimedia.org/wikipedia/commons...  \n",
       "2    https://upload.wikimedia.org/wikipedia/commons...  \n",
       "3    https://upload.wikimedia.org/wikipedia/commons...  \n",
       "4    https://upload.wikimedia.org/wikipedia/commons...  \n",
       "..                                                 ...  \n",
       "180  https://upload.wikimedia.org/wikipedia/commons...  \n",
       "181  https://upload.wikimedia.org/wikipedia/commons...  \n",
       "182  https://upload.wikimedia.org/wikipedia/commons...  \n",
       "183  https://upload.wikimedia.org/wikipedia/commons...  \n",
       "184                                                  c  \n",
       "\n",
       "[185 rows x 3 columns]"
      ]
     },
     "execution_count": 83,
     "metadata": {},
     "output_type": "execute_result"
    }
   ],
   "source": [
    "flag.append({\"Country\":\"American Samoa\", \"Images File Name\":\"Flag_of_American_Samoa.svg\", \"ImageURL\":\"https://upload.wikimedia.org/wikipedia/commons/8/87/Flag_of_American_Samoa.svg\"}, ignore_index=True)\n",
    "flag.append({\"Country\":\"Anguilla\", \"Images File Name\":\"Flag_of_Anguilla.svg\", \"ImageURL\":\"https://upload.wikimedia.org/wikipedia/commons/b/b4/Flag_of_Anguilla.svg\"}, ignore_index=True)\n",
    "flag.append({\"Country\":\"Aruba\", \"Images File Name\":\"Flag_of_Aruba.svg\", \"ImageURL\":\"https://upload.wikimedia.org/wikipedia/commons/f/f6/Flag_of_Aruba.svg\"}, ignore_index=True)\n",
    "flag.append({\"Country\":\"Bermuda\", \"Images File Name\":\"Flag_of_Bermuda.svg\", \"ImageURL\":\"https://upload.wikimedia.org/wikipedia/commons/b/bf/Flag_of_Bermuda.svg\"}, ignore_index=True)\n",
    "flag.append({\"Country\":\"British Virgin Islands\", \"Images File Name\":\"b\", \"ImageURL\":\"c\"}, ignore_index=True)\n",
    "flag.append({\"Country\":\"Burma\", \"Images File Name\":\"b\", \"ImageURL\":\"c\"}, ignore_index=True)\n",
    "flag.append({\"Country\":\"Cayman Islands\", \"Images File Name\":\"b\", \"ImageURL\":\"c\"}, ignore_index=True)\n",
    "flag.append({\"Country\":\"Curaçao\", \"Images File Name\":\"b\", \"ImageURL\":\"c\"}, ignore_index=True)\n",
    "flag.append({\"Country\":\"Czechoslovakia\", \"Images File Name\":\"b\", \"ImageURL\":\"c\"}, ignore_index=True)\n",
    "flag.append({\"Country\":\"England\", \"Images File Name\":\"b\", \"ImageURL\":\"c\"}, ignore_index=True)\n",
    "flag.append({\"Country\":\"Faroe Islands\", \"Images File Name\":\"b\", \"ImageURL\":\"c\"}, ignore_index=True)\n",
    "flag.append({\"Country\":\"Eswatini\", \"Images File Name\":\"b\", \"ImageURL\":\"c\"}, ignore_index=True)\n",
    "flag.append({\"Country\":\"Gambia\", \"Images File Name\":\"b\", \"ImageURL\":\"c\"}, ignore_index=True)\n",
    "flag.append({\"Country\":\"German Democratic Republic\", \"Images File Name\":\"b\", \"ImageURL\":\"c\"}, ignore_index=True)\n",
    "flag.append({\"Country\":\"Gibraltar\", \"Images File Name\":\"b\", \"ImageURL\":\"c\"}, ignore_index=True)\n",
    "flag.append({\"Country\":\"Guam\", \"Images File Name\":\"b\", \"ImageURL\":\"c\"}, ignore_index=True)\n",
    "flag.append({\"Country\":\"Hong Kong\", \"Images File Name\":\"b\", \"ImageURL\":\"c\"}, ignore_index=True)\n",
    "flag.append({\"Country\":\"Macau\", \"Images File Name\":\"b\", \"ImageURL\":\"c\"}, ignore_index=True)\n",
    "flag.append({\"Country\":\"Montserrat\", \"Images File Name\":\"b\", \"ImageURL\":\"c\"}, ignore_index=True)\n",
    "flag.append({\"Country\":\"New Caledonia\", \"Images File Name\":\"b\", \"ImageURL\":\"c\"}, ignore_index=True)\n",
    "flag.append({\"Country\":\"North Macedonia\", \"Images File Name\":\"b\", \"ImageURL\":\"c\"}, ignore_index=True)\n",
    "flag.append({\"Country\":\"Northern Ireland\", \"Images File Name\":\"b\", \"ImageURL\":\"c\"}, ignore_index=True)\n",
    "flag.append({\"Country\":\"Puerto Rico\", \"Images File Name\":\"b\", \"ImageURL\":\"c\"}, ignore_index=True)\n",
    "flag.append({\"Country\":\"Saarland\", \"Images File Name\":\"b\", \"ImageURL\":\"c\"}, ignore_index=True)\n",
    "flag.append({\"Country\":\"Saint Vincent and the Grenadines\", \"Images File Name\":\"b\", \"ImageURL\":\"c\"}, ignore_index=True)\n",
    "flag.append({\"Country\":\"Scotland\", \"Images File Name\":\"b\", \"ImageURL\":\"c\"}, ignore_index=True)\n",
    "flag.append({\"Country\":\"São Tomé and Príncipe\", \"Images File Name\":\"b\", \"ImageURL\":\"c\"}, ignore_index=True)\n",
    "flag.append({\"Country\":\"Tahiti\", \"Images File Name\":\"b\", \"ImageURL\":\"c\"}, ignore_index=True)\n",
    "flag.append({\"Country\":\"Turks and Caicos Islands\", \"Images File Name\":\"b\", \"ImageURL\":\"c\"}, ignore_index=True)\n",
    "flag.append({\"Country\":\"U.S. Virgin Islands\", \"Images File Name\":\"b\", \"ImageURL\":\"c\"}, ignore_index=True)\n",
    "flag.append({\"Country\":\"Vietnam Republic\", \"Images File Name\":\"b\", \"ImageURL\":\"c\"}, ignore_index=True)\n",
    "flag.append({\"Country\":\"Wales\", \"Images File Name\":\"b\", \"ImageURL\":\"c\"}, ignore_index=True)\n",
    "flag.append({\"Country\":\"Yemen DPR\", \"Images File Name\":\"b\", \"ImageURL\":\"c\"}, ignore_index=True)\n",
    "flag.append({\"Country\":\"Yugoslavia\", \"Images File Name\":\"b\", \"ImageURL\":\"c\"}, ignore_index=True)"
   ]
  },
  {
   "cell_type": "code",
   "execution_count": 84,
   "metadata": {},
   "outputs": [
    {
     "data": {
      "text/plain": [
       "{'American Samoa',\n",
       " 'Anguilla',\n",
       " 'Aruba',\n",
       " 'Bermuda',\n",
       " 'British Virgin Islands',\n",
       " 'Burma',\n",
       " 'Cayman Islands',\n",
       " 'Curaçao',\n",
       " 'Czechoslovakia',\n",
       " 'England',\n",
       " 'Eswatini',\n",
       " 'Faroe Islands',\n",
       " 'Gambia',\n",
       " 'German Democratic Republic',\n",
       " 'Gibraltar',\n",
       " 'Guam',\n",
       " 'Hong Kong',\n",
       " 'Macau',\n",
       " 'Montserrat',\n",
       " 'New Caledonia',\n",
       " 'North Macedonia',\n",
       " 'Northern Ireland',\n",
       " 'Puerto Rico',\n",
       " 'Saarland',\n",
       " 'Saint Vincent and the Grenadines',\n",
       " 'Scotland',\n",
       " 'São Tomé and Príncipe',\n",
       " 'Tahiti',\n",
       " 'Turks and Caicos Islands',\n",
       " 'U.S. Virgin Islands',\n",
       " 'Vietnam Republic',\n",
       " 'Wales',\n",
       " 'Yemen DPR',\n",
       " 'Yugoslavia'}"
      ]
     },
     "execution_count": 84,
     "metadata": {},
     "output_type": "execute_result"
    }
   ],
   "source": [
    "countries_without_flags"
   ]
  },
  {
   "cell_type": "code",
   "execution_count": 87,
   "metadata": {},
   "outputs": [
    {
     "data": {
      "text/plain": [
       "'https://upload.wikimedia.org/wikipedia/commons/9/9a/Flag_of_Afghanistan.svg'"
      ]
     },
     "execution_count": 87,
     "metadata": {},
     "output_type": "execute_result"
    }
   ],
   "source": [
    "flag['ImageURL'][0]"
   ]
  },
  {
   "cell_type": "code",
   "execution_count": null,
   "metadata": {},
   "outputs": [],
   "source": []
  },
  {
   "cell_type": "code",
   "execution_count": null,
   "metadata": {},
   "outputs": [],
   "source": []
  },
  {
   "cell_type": "code",
   "execution_count": null,
   "metadata": {},
   "outputs": [],
   "source": []
  },
  {
   "cell_type": "code",
   "execution_count": null,
   "metadata": {},
   "outputs": [],
   "source": []
  },
  {
   "cell_type": "code",
   "execution_count": null,
   "metadata": {},
   "outputs": [],
   "source": [
    "data.to_csv('data/final_results.csv')"
   ]
  }
 ],
 "metadata": {
  "kernelspec": {
   "display_name": "Python 3",
   "language": "python",
   "name": "python3"
  },
  "language_info": {
   "codemirror_mode": {
    "name": "ipython",
    "version": 3
   },
   "file_extension": ".py",
   "mimetype": "text/x-python",
   "name": "python",
   "nbconvert_exporter": "python",
   "pygments_lexer": "ipython3",
   "version": "3.7.4"
  }
 },
 "nbformat": 4,
 "nbformat_minor": 2
}
